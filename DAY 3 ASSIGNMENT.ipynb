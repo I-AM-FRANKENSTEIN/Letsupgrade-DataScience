{
 "cells": [
  {
   "cell_type": "code",
   "execution_count": 3,
   "metadata": {},
   "outputs": [],
   "source": [
    "import numpy as np"
   ]
  },
  {
   "cell_type": "code",
   "execution_count": 4,
   "metadata": {},
   "outputs": [
    {
     "name": "stdout",
     "output_type": "stream",
     "text": [
      "1.18.5\n"
     ]
    }
   ],
   "source": [
    "print(np.__version__)"
   ]
  },
  {
   "cell_type": "markdown",
   "metadata": {},
   "source": [
    "Q1:"
   ]
  },
  {
   "cell_type": "code",
   "execution_count": 8,
   "metadata": {},
   "outputs": [
    {
     "name": "stdout",
     "output_type": "stream",
     "text": [
      "[ 2  5  8 11 14 17 20 23 26 29 32 35 38 41 44 47]\n",
      "<class 'numpy.ndarray'>\n"
     ]
    }
   ],
   "source": [
    "l=[]\n",
    "for i in range(2,50,3):\n",
    "    l.append(i)\n",
    "arr=np.array(l)\n",
    "print(arr)\n",
    "print(type(arr))"
   ]
  },
  {
   "cell_type": "markdown",
   "metadata": {},
   "source": [
    "Q2:"
   ]
  },
  {
   "cell_type": "code",
   "execution_count": 15,
   "metadata": {},
   "outputs": [
    {
     "name": "stdout",
     "output_type": "stream",
     "text": [
      "Enter the numbers: 5\n",
      "Enter the numbers: 4\n",
      "Enter the numbers: 3\n",
      "Enter the numbers: 2\n",
      "Enter the numbers: 1\n",
      "\n",
      "\n",
      "Enter the numbers: 10\n",
      "Enter the numbers: 9\n",
      "Enter the numbers: 8\n",
      "Enter the numbers: 7\n",
      "Enter the numbers: 6\n",
      "\n",
      "\n",
      "[ 5  4  3  2  1 10  9  8  7  6]\n",
      "[ 1  2  3  4  5  6  7  8  9 10]\n"
     ]
    }
   ],
   "source": [
    "l1=[]\n",
    "l2=[]\n",
    "for i in range(1,6):\n",
    "    l1.append(eval(input(\"Enter the numbers: \")))\n",
    "print(\"\\n\")\n",
    "for i in range(1,6):\n",
    "    l2.append(eval(input(\"Enter the numbers: \")))\n",
    "arr1=np.array(l1)\n",
    "arr2=np.array(l2)\n",
    "arr=np.concatenate((arr1,arr2))\n",
    "print(\"\\n\")\n",
    "print(arr)\n",
    "print(np.sort(arr))"
   ]
  },
  {
   "cell_type": "markdown",
   "metadata": {},
   "source": [
    "Q3:"
   ]
  },
  {
   "cell_type": "code",
   "execution_count": 42,
   "metadata": {},
   "outputs": [
    {
     "name": "stdout",
     "output_type": "stream",
     "text": [
      "[[1 2 3]\n",
      " [4 5 6]\n",
      " [7 8 9]]\n",
      "Dimension:- (3, 3)\n",
      "Size:- 9\n"
     ]
    }
   ],
   "source": [
    "arr = np.array( [ [1,2,3] , [4,5,6] , [7,8,9] ] )\n",
    "print(arr)\n",
    "print(\"Dimension:-\",arr.shape)\n",
    "print(\"Size:-\",arr.size)"
   ]
  },
  {
   "cell_type": "markdown",
   "metadata": {},
   "source": [
    "Q4:"
   ]
  },
  {
   "cell_type": "code",
   "execution_count": 46,
   "metadata": {},
   "outputs": [
    {
     "name": "stdout",
     "output_type": "stream",
     "text": [
      "[ 1  2  3  4  5  6  7  8  9 10 11 12]\n",
      "\n",
      "\n",
      "[[ 1  2  3]\n",
      " [ 4  5  6]\n",
      " [ 7  8  9]\n",
      " [10 11 12]]\n"
     ]
    }
   ],
   "source": [
    "arr = np.array([1, 2, 3, 4, 5, 6, 7, 8, 9, 10, 11, 12])\n",
    "print(arr)\n",
    "print(\"\\n\")\n",
    "newarr = arr.reshape(4, 3)\n",
    "print(newarr)"
   ]
  },
  {
   "cell_type": "code",
   "execution_count": null,
   "metadata": {},
   "outputs": [],
   "source": [
    "Q5:"
   ]
  },
  {
   "cell_type": "code",
   "execution_count": 40,
   "metadata": {},
   "outputs": [
    {
     "name": "stdout",
     "output_type": "stream",
     "text": [
      "Stack vertically:-\n",
      "[[ 1  2  3  4  5]\n",
      " [ 6  7  8  9 10]]\n",
      "\n",
      "Stack horizontally:-\n",
      "[ 1  2  3  4  5  6  7  8  9 10]\n"
     ]
    }
   ],
   "source": [
    "x=np.array([1,2,3,4,5])\n",
    "y=np.array([6,7,8,9,10])\n",
    "v=np.vstack((x,y))\n",
    "h=np.hstack((x,y))\n",
    "print(\"Stack vertically:-\")\n",
    "print(v)\n",
    "print(\"\\nStack horizontally:-\")\n",
    "print(h)"
   ]
  },
  {
   "cell_type": "code",
   "execution_count": null,
   "metadata": {},
   "outputs": [],
   "source": [
    "Q6:"
   ]
  },
  {
   "cell_type": "code",
   "execution_count": 44,
   "metadata": {},
   "outputs": [
    {
     "name": "stdout",
     "output_type": "stream",
     "text": [
      "[2 3 4 5 6 8]\n",
      "Count: 6\n"
     ]
    }
   ],
   "source": [
    "x=np.array([2,3,4,3,5,6,4,8,3,2,6])\n",
    "y=np.unique(x)\n",
    "print(y)\n",
    "print(\"Count:\",len(y))"
   ]
  }
 ],
 "metadata": {
  "kernelspec": {
   "display_name": "Python 3",
   "language": "python",
   "name": "python3"
  },
  "language_info": {
   "codemirror_mode": {
    "name": "ipython",
    "version": 3
   },
   "file_extension": ".py",
   "mimetype": "text/x-python",
   "name": "python",
   "nbconvert_exporter": "python",
   "pygments_lexer": "ipython3",
   "version": "3.8.3"
  }
 },
 "nbformat": 4,
 "nbformat_minor": 4
}
